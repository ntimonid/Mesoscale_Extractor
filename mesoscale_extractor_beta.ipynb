{
 "cells": [
  {
   "cell_type": "markdown",
   "id": "bf1dbb47",
   "metadata": {},
   "source": [
    "### In case that your kernel does not have the following libraries installed ..."
   ]
  },
  {
   "cell_type": "code",
   "execution_count": 7,
   "id": "b4f9df7a-bc4a-4e39-a3b8-525007fa9803",
   "metadata": {},
   "outputs": [],
   "source": [
    "# Packages for installation\n",
    "\n",
    "# !python -m pip install allensdk\n",
    "# !python -m pip install pynrrd\n",
    "# !python -m pip install pandas\n",
    "# !python -m pip install requests\n",
    "# !python -m pip install matplotlib"
   ]
  },
  {
   "cell_type": "code",
   "execution_count": 1,
   "id": "275fe07f",
   "metadata": {},
   "outputs": [],
   "source": [
    "%load_ext autoreload\n",
    "%autoreload 2\n",
    "\n",
    "from cfg import *\n",
    "sys.path.append('libraries')\n",
    "\n",
    "from mesoscale_extractor import NeuronPopulation\n",
    "from utils import *\n",
    "import convertAllenSpace as CAS\n",
    "\n",
    "data_repository = 'atlas_files'"
   ]
  },
  {
   "cell_type": "markdown",
   "id": "20c51201",
   "metadata": {},
   "source": [
    "## Initialize the NeuronPopulation class with the requested source and target areas from which the statistics will be derived"
   ]
  },
  {
   "cell_type": "code",
   "execution_count": 2,
   "id": "6a49636c",
   "metadata": {},
   "outputs": [],
   "source": [
    "neuropop_cls = NeuronPopulation(data_path = data_repository, res = 10)"
   ]
  },
  {
   "cell_type": "markdown",
   "id": "0c783e56",
   "metadata": {},
   "source": [
    "## Create a meso-scale connectivity matrix comprised of anatomically distinct brain sub-areas, as defined by the Allen Reference Atlas"
   ]
  },
  {
   "cell_type": "code",
   "execution_count": null,
   "id": "6816d7ee",
   "metadata": {},
   "outputs": [],
   "source": [
    "layers = ['1','2/3','4','5','6a','6b']\n",
    "source_areas = ['VPM','RT']  \n",
    "target_areas = ['SSp-bfd'] \n",
    "layered_target_areas = [val1+val2 for val1 in target_areas for val2 in layers]\n",
    "layered_target_areas = layered_target_areas + source_areas\n",
    "\n",
    "mesoscale_stats_df = neuropop_cls.make_connectivity_matrix(source_areas, layered_target_areas, \n",
    "                                                            feature = 'length', extract = 'terminals') #mode = 'full', \n",
    "\n",
    "print((mesoscale_stats_df.loc[source_areas[0]]).mean(axis = 0, skipna = True))\n",
    "print((mesoscale_stats_df.loc[source_areas[0]]).std(axis = 0, skipna = True))   \n"
   ]
  },
  {
   "cell_type": "markdown",
   "id": "09ab840a",
   "metadata": {},
   "source": [
    "## Create a connectivity matrix with barrel-specific projections"
   ]
  },
  {
   "cell_type": "code",
   "execution_count": null,
   "id": "44b2b175",
   "metadata": {},
   "outputs": [],
   "source": [
    "source_areas = ['VPM','RT']\n",
    "\n",
    "# barrel_areas = ['Xa1','Xb2','Xc3']\n",
    "# layered_barrel_areas = ['Xa1 L2/3','Xb2 L4','Xc3 L5']\n",
    "\n",
    "barrel_annot, id2barrlabel = load_barrel_files(data_repository, islayer = True)\n",
    "full_barrel_acros = sorted(list(id2barrlabel.values()))\n",
    "\n",
    "barrel_stats_df = neuropop_cls.barrel_specific_matrix(source_areas, full_barrel_acros, feature = 'length', extract = 'terminals')\n",
    "\n",
    "print((barrel_stats_df.loc[source_areas[0]]).mean(axis = 0, skipna = True))\n",
    "print((barrel_stats_df.loc[source_areas[0]]).std(axis = 0, skipna = True))   \n"
   ]
  },
  {
   "cell_type": "code",
   "execution_count": null,
   "id": "6b5eff42-bd9d-4b04-a2bc-931af41f7896",
   "metadata": {},
   "outputs": [],
   "source": [
    "from pdb import set_trace\n",
    "alphabet = np.array(['a','b','c','d','e']) #'α','β', 'γ', 'δ',\n",
    "\n",
    "projection_thr = 40\n",
    "barrel_to_barreloid_dict = {}\n",
    "for barrel_acro in full_barrel_acros:\n",
    "    if 'L4' not in barrel_acro: continue\n",
    "    barrel_acro_layerless = barrel_acro.split(' L4')[0]\n",
    "    \n",
    "    is_positive_proj = barrel_stats_df.loc['VPM'][barrel_acro] > projection_thr\n",
    "    barreloid_neurons = barrel_stats_df.loc['VPM'][barrel_acro][is_positive_proj] \n",
    "    barreloid_neurons = list(barreloid_neurons.index)\n",
    "    \n",
    "    for barreloid_neuron in barreloid_neurons:\n",
    "        l4_proj = barrel_stats_df.loc['VPM'][barrel_acro][barreloid_neuron]\n",
    "        full_target_barrel_set = list(barrel_stats_df.loc['VPM', barreloid_neuron][barrel_stats_df.loc['VPM', barreloid_neuron] > 0].index)\n",
    "        strongest_target = list(barrel_stats_df.loc['VPM', barreloid_neuron][barrel_stats_df.loc['VPM', barreloid_neuron] ==  barrel_stats_df.loc['VPM', barreloid_neuron].max()].index)[0]\n",
    "        combined_strings = strongest_target[1] + ' ' + barrel_acro[1]\n",
    "        crazy_condition = strongest_target[1] == barrel_acro[1] or ('a' in combined_strings and 'α' in combined_strings) or ('b' in combined_strings and 'β' in combined_strings) or ('c' in combined_strings and 'γ' in combined_strings) or ('d' in combined_strings and 'δ' in combined_strings)\n",
    "        unique_trg_columns = np.unique([val[1:2] for val in full_target_barrel_set])      \n",
    "        # if strongest_target[1] != barrel_acro[1]: continue\n",
    "        if crazy_condition is False: continue\n",
    " \n",
    "        unique_trg_columns[unique_trg_columns == 'γ'] = 'd'\n",
    "        unique_trg_columns[unique_trg_columns == 'β'] = 'b'\n",
    "        unique_trg_columns[unique_trg_columns == 'α'] = 'a'\n",
    "        unique_trg_columns[unique_trg_columns == 'δ'] = 'd'\n",
    "\n",
    "        if len(unique_trg_columns) > 1:\n",
    "            column_distance = [np.where(alphabet == column)[0][0] for column in unique_trg_columns]\n",
    "            max_col_dist = np.max([np.abs(val1 - val2) for val1 in column_distance for val2 in column_distance])\n",
    "            if max_col_dist > 1:\n",
    "                continue\n",
    "        flag = True\n",
    "        for val in ['L2/3','L5','L6a','L6b']:\n",
    "            if barrel_acro.split(' L4')[0] + ' ' + val not in barrel_stats_df.columns: \n",
    "                continue\n",
    "            another_layer_proj = barrel_stats_df.loc['VPM', barreloid_neuron][barrel_acro.split(' L4')[0] + ' ' + val]\n",
    "            if another_layer_proj > l4_proj and np.isnan(another_layer_proj) == False:  \n",
    "                flag = False\n",
    "        if flag is True:\n",
    "            if barrel_acro_layerless not in barrel_to_barreloid_dict:\n",
    "                barrel_to_barreloid_dict[barrel_acro_layerless] = []\n",
    "            barrel_to_barreloid_dict[barrel_acro_layerless].append(barreloid_neuron)         \n",
    "    \n",
    "    \n",
    "# print(barrel_acro.split(' L4')[0], len(barrel_to_barreloid_dict[barrel_acro]))\n",
    "sorted_keys = sorted(barrel_to_barreloid_dict, key=lambda x: len(barrel_to_barreloid_dict[x]))\n",
    "barrel_to_barreloid_dict = {key: barrel_to_barreloid_dict[key] for key in sorted_keys[::-1]}\n",
    "\n",
    "for barrel_acro, neuron_ids in barrel_to_barreloid_dict.items():\n",
    "    print(barrel_acro, len(neuron_ids))\n"
   ]
  },
  {
   "cell_type": "markdown",
   "id": "76de2b03-143f-4eec-933b-1199926ae63e",
   "metadata": {},
   "source": [
    "### TODO: Extract the barrel-layer picky-specific means and stds"
   ]
  },
  {
   "cell_type": "code",
   "execution_count": null,
   "id": "77205802-30ed-48dc-b625-90a113c00c4f",
   "metadata": {
    "scrolled": true
   },
   "outputs": [],
   "source": [
    "layer_acros = ['L1','L2/3','L4','L5','L6a','L6b']\n",
    "picky_barrels = {}\n",
    "for barrel_acro, neuron_ids in barrel_to_barreloid_dict.items():\n",
    "    for layer_acro in layer_acros:\n",
    "        barrel_layer_acro = barrel_acro + ' ' + layer_acro\n",
    "        if barrel_layer_acro not in barrel_stats_df.columns: continue\n",
    "        barrel_layer_proj_stats = barrel_stats_df[barrel_layer_acro]['VPM'][neuron_ids]\n",
    "        barrel_layer_proj_stats[np.isnan(barrel_layer_proj_stats)] = 0\n",
    "        means = barrel_layer_proj_stats.mean(skipna = True)\n",
    "        stds = barrel_layer_proj_stats.std(skipna = True)\n",
    "        enrichment = len(neuron_ids) #len(barrel_layer_proj_stats[barrel_layer_proj_stats > 0].index)\n",
    "        if enrichment < 2 or np.isnan(means) or np.isnan(stds): continue\n",
    "        means = np.round(means).astype(int)\n",
    "        stds = np.round(stds).astype(int)\n",
    "        print(barrel_layer_acro, means, stds, enrichment)\n",
    "        picky_barrels[barrel_layer_acro] = {'mean' : means, 'std': stds, 'enrichment': enrichment}\n",
    "        "
   ]
  },
  {
   "cell_type": "raw",
   "id": "33213cd7-e826-4a30-90e8-fed577be622f",
   "metadata": {},
   "source": [
    "pk.dump(picky_barrels,open('Saves/picky_barrels_whole_axon.pkl','wb'))"
   ]
  },
  {
   "cell_type": "raw",
   "id": "00ac3a06-bc73-4831-aa6a-34c160d8a45f",
   "metadata": {},
   "source": [
    "pk.dump(picky_barrels,open('Saves/picky_barrels_terminals_only.pkl','wb'))"
   ]
  },
  {
   "cell_type": "code",
   "execution_count": null,
   "id": "19ac13bb-451a-4e61-bf8a-e977812fc2f8",
   "metadata": {
    "scrolled": true
   },
   "outputs": [],
   "source": [
    "all_means, all_stds = {}, {}\n",
    "for barrel_acro in barrel_stats_df.columns:\n",
    "    means = barrel_stats_df[barrel_acro].mean(skipna = True)\n",
    "    stds = barrel_stats_df[barrel_acro].std(skipna = True)\n",
    "    if np.isnan(means) or np.isnan(stds): continue\n",
    "\n",
    "    all_means[barrel_acro] = means\n",
    "    all_stds[barrel_acro] = stds\n",
    "    if barrel_acro in picky_stds.keys():\n",
    "        print(barrel_acro, means, stds)"
   ]
  },
  {
   "cell_type": "code",
   "execution_count": null,
   "id": "b1dfb6e0-2c79-4a55-9e21-bfef48a94ff5",
   "metadata": {},
   "outputs": [],
   "source": [
    "import matplotlib.pyplot as plt\n",
    "\n",
    "fig = plt.figure()\n",
    "plt.boxplot([list(all_stds.values()), list(picky_stds.values())])\n",
    "plt.show()\n",
    "\n",
    "fig = plt.figure()\n",
    "plt.boxplot([list(all_means.values()), list(picky_means.values())])\n",
    "plt.show()"
   ]
  },
  {
   "cell_type": "markdown",
   "id": "15998a8a-f483-4dc3-bfd6-9de8c3fa393d",
   "metadata": {},
   "source": [
    "### TO DO: figure out the soma positions of these neurons, draw their convex hull and use it as a constraint for projections from the barrel cortex and RT"
   ]
  },
  {
   "cell_type": "code",
   "execution_count": null,
   "id": "0be466ce-61c6-4284-baad-8c62f3c6cb32",
   "metadata": {},
   "outputs": [],
   "source": [
    "from scipy.spatial import ConvexHull\n",
    "out_orientation = out_orientation = ['um(10','PIR','corner']\n",
    "\n",
    "sel_neuron_soma_cords = []\n",
    "for barrel_acro, neuron_ids in barrel_to_barreloid_dict.items():\n",
    "    for neuron_id in neuron_ids:\n",
    "        db = 'mouselight' if 'AA' in neuron_id else 'braintell'\n",
    "        neuronPath = 'https://neuroinformatics.nl/HBP/neuronsreunited-viewer/{}_json_gz/{}.json.gz'.format(db,neuron_id)\n",
    "        file_content = requests.get(neuronPath).content\n",
    "        target_neuron = json.loads(zlib.decompress(file_content, 16+zlib.MAX_WBITS))\n",
    "        \n",
    "        neuron_cls = NeuronMorphology(neuronDict = target_neuron)\n",
    "        neuron_name = neuron_id.split('.')[0]\n",
    "        if db == 'braintell':\n",
    "            re_str = neuron_name.split('_')[1:3]\n",
    "            neuron_name = re_str[0]+'_'+ re_str[1]\n",
    "        neuron_cls.transform(out_orientation)\n",
    "        print(neuron_cls.soma)\n",
    "        sel_neuron_soma_cords.append(neuron_cls.soma)\n",
    "        a = 1/0\n",
    "\n",
    "sel_neuron_soma_cords = np.array(sel_neuron_soma_cords)\n",
    "ConvexHull(sel_neuron_soma_cords)\n"
   ]
  },
  {
   "cell_type": "markdown",
   "id": "73a4b39a-9180-4292-9b4f-0dbf13d708ac",
   "metadata": {},
   "source": [
    "### Note: for the reticular neurons, draw the convex hull of the proper barreloid neurons, then see which RT neurons target inside this convex hull, and select only their statistics. Accordingly, draw a convex hull for these RT neurons and select only feedback targets from the barrel cortex to the RT and VPM convex hulls respectively"
   ]
  },
  {
   "cell_type": "markdown",
   "id": "e652333b",
   "metadata": {},
   "source": [
    "## Concatenate the area-specific and barrel-specific matrices"
   ]
  },
  {
   "cell_type": "code",
   "execution_count": null,
   "id": "1ae7ff2e",
   "metadata": {},
   "outputs": [],
   "source": [
    "merge_stats_df = pd.concat([mesoscale_stats_df, barrel_stats_df], axis=1)\n",
    "\n",
    "print((merge_stats_df.loc[source_areas[0]]).mean(axis = 0, skipna = True))\n",
    "print((merge_stats_df.loc[source_areas[0]]).std(axis = 0, skipna = True))   \n"
   ]
  }
 ],
 "metadata": {
  "kernelspec": {
   "display_name": "Python 3 (ipykernel)",
   "language": "python",
   "name": "python3"
  },
  "language_info": {
   "codemirror_mode": {
    "name": "ipython",
    "version": 3
   },
   "file_extension": ".py",
   "mimetype": "text/x-python",
   "name": "python",
   "nbconvert_exporter": "python",
   "pygments_lexer": "ipython3",
   "version": "3.10.4"
  }
 },
 "nbformat": 4,
 "nbformat_minor": 5
}
